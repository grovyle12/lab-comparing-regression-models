{
 "cells": [
  {
   "cell_type": "code",
   "execution_count": 1,
   "id": "7032a0ea-4cc8-4297-90e7-ffe6ab4e1f88",
   "metadata": {},
   "outputs": [],
   "source": [
    "import pandas as pd\n",
    "import numpy as np\n",
    "pd.set_option('display.max_columns', None)\n",
    "# pd.set_option('display.max_rows', None)\n",
    "from sklearn.neighbors import KNeighborsRegressor\n",
    "import matplotlib.pyplot as plt\n",
    "from mlxtend.plotting import plot_decision_regions\n",
    "from sklearn.metrics import r2_score, mean_squared_error, mean_absolute_error\n",
    "from sklearn.model_selection import train_test_split\n",
    "from sklearn.linear_model import LinearRegression\n",
    "from sklearn.preprocessing import Normalizer\n",
    "from sklearn.preprocessing import OneHotEncoder"
   ]
  },
  {
   "cell_type": "code",
   "execution_count": 2,
   "id": "212899df-cb19-43ae-a01a-4a04fbe026b3",
   "metadata": {},
   "outputs": [],
   "source": [
    "df = pd.read_csv('C:/Users/mauri/Documents/Important IH Files/data_4.05_activities/files_for_activities/lesson_4.05_data.csv')"
   ]
  },
  {
   "cell_type": "code",
   "execution_count": 3,
   "id": "83cc9a29-9792-497e-afdf-ea747d6b1d6e",
   "metadata": {},
   "outputs": [],
   "source": [
    "X_num = df.select_dtypes(np.number)"
   ]
  },
  {
   "cell_type": "code",
   "execution_count": 4,
   "id": "4563b2e0-6854-42cb-b6ec-718bf82d5d08",
   "metadata": {},
   "outputs": [
    {
     "name": "stderr",
     "output_type": "stream",
     "text": [
      "C:\\Users\\mauri\\AppData\\Local\\Temp/ipykernel_24380/3215721315.py:1: DeprecationWarning: `np.object` is a deprecated alias for the builtin `object`. To silence this warning, use `object` by itself. Doing this will not modify any behavior and is safe. \n",
      "Deprecated in NumPy 1.20; for more details and guidance: https://numpy.org/devdocs/release/1.20.0-notes.html#deprecations\n",
      "  X_cat = df.select_dtypes(np.object)\n"
     ]
    }
   ],
   "source": [
    "X_cat = df.select_dtypes(np.object)"
   ]
  },
  {
   "cell_type": "code",
   "execution_count": 5,
   "id": "528c0a3d-4430-48bf-be3f-38516c4f7458",
   "metadata": {},
   "outputs": [
    {
     "data": {
      "text/plain": [
       "0         7.741935\n",
       "1        15.666667\n",
       "2         7.481481\n",
       "3         6.812500\n",
       "4         6.864865\n",
       "           ...    \n",
       "88388     3.375000\n",
       "88389    25.000000\n",
       "88390    20.000000\n",
       "88391     8.285714\n",
       "88392    96.794872\n",
       "Name: AVGGIFT, Length: 88393, dtype: float64"
      ]
     },
     "execution_count": 5,
     "metadata": {},
     "output_type": "execute_result"
    }
   ],
   "source": [
    "Y = X_num['AVGGIFT']\n",
    "X_num.drop([\"AVGGIFT\"], axis =1, inplace = True)\n",
    "Y"
   ]
  },
  {
   "cell_type": "code",
   "execution_count": 6,
   "id": "b70a7c27-eec3-4db0-8987-0c63c937c2d4",
   "metadata": {},
   "outputs": [
    {
     "data": {
      "text/plain": [
       "array([[3.71442104e-02, 2.38064146e-02, 9.99016415e-01, ...,\n",
       "        3.10181298e-04, 2.86917700e-03, 3.10181298e-04],\n",
       "       [1.49390167e-01, 2.97250369e-02, 9.88330156e-01, ...,\n",
       "        4.91774507e-04, 1.42068191e-03, 5.46416119e-05],\n",
       "       [4.28835731e-02, 2.16574987e-02, 9.98833486e-01, ...,\n",
       "        1.03541826e-03, 3.24179100e-03, 3.45139421e-04],\n",
       "       ...,\n",
       "       [6.31124176e-02, 3.02969676e-02, 9.97544573e-01, ...,\n",
       "        3.05145559e-04, 1.87946449e-03, 3.75892898e-05],\n",
       "       [3.08532483e-02, 2.15808625e-02, 9.99284196e-01, ...,\n",
       "        2.46169534e-04, 3.11814743e-03, 2.46169534e-04],\n",
       "       [5.60618305e-02, 2.69551019e-02, 9.98055979e-01, ...,\n",
       "        3.58604460e-04, 1.07581338e-03, 5.97674100e-05]])"
      ]
     },
     "execution_count": 6,
     "metadata": {},
     "output_type": "execute_result"
    }
   ],
   "source": [
    "transformer = Normalizer().fit(X_num)\n",
    "x_normalized = transformer.transform(X_num)\n",
    "x_normalized"
   ]
  },
  {
   "cell_type": "code",
   "execution_count": 7,
   "id": "6e10844e-2abb-4afe-be96-94078a34ef35",
   "metadata": {},
   "outputs": [
    {
     "data": {
      "text/plain": [
       "array([[1., 0., 0., ..., 1., 0., 0.],\n",
       "       [0., 1., 0., ..., 0., 0., 1.],\n",
       "       [0., 1., 0., ..., 1., 0., 0.],\n",
       "       ...,\n",
       "       [0., 1., 0., ..., 0., 1., 0.],\n",
       "       [0., 1., 0., ..., 1., 0., 0.],\n",
       "       [1., 0., 0., ..., 0., 0., 1.]])"
      ]
     },
     "execution_count": 7,
     "metadata": {},
     "output_type": "execute_result"
    }
   ],
   "source": [
    "encoder = OneHotEncoder().fit(X_cat)\n",
    "encoded = encoder.transform(X_cat).toarray()\n",
    "encoded"
   ]
  },
  {
   "cell_type": "code",
   "execution_count": 8,
   "id": "4f684617-17bd-4f87-849e-d5d94ed84033",
   "metadata": {},
   "outputs": [
    {
     "data": {
      "text/plain": [
       "(88393, 24)"
      ]
     },
     "execution_count": 8,
     "metadata": {},
     "output_type": "execute_result"
    }
   ],
   "source": [
    "X = np.concatenate((x_normalized,encoded), axis = 1)\n",
    "X.shape"
   ]
  },
  {
   "cell_type": "code",
   "execution_count": 9,
   "id": "8cdbe74d-5fe0-44d2-8a80-153524c23580",
   "metadata": {},
   "outputs": [],
   "source": [
    "X_train, X_test, y_train, y_test = train_test_split(X,Y, test_size = 0.25, random_state = 100 )"
   ]
  },
  {
   "cell_type": "code",
   "execution_count": 10,
   "id": "ceffafbf-26d6-40d3-b97b-22e2bf1a4a6c",
   "metadata": {},
   "outputs": [],
   "source": [
    "lm = LinearRegression().fit(X_train,y_train)\n",
    "predictions = lm.predict(X_test)"
   ]
  },
  {
   "cell_type": "code",
   "execution_count": 11,
   "id": "6d1836dd-5ce0-4f37-9e2b-e1d550ff8f93",
   "metadata": {},
   "outputs": [],
   "source": [
    "mse = mean_squared_error(predictions, y_test)"
   ]
  },
  {
   "cell_type": "code",
   "execution_count": 12,
   "id": "ff24ca1a-35a4-44dd-8ffb-502f728289ab",
   "metadata": {},
   "outputs": [
    {
     "data": {
      "text/plain": [
       "40.64715271052966"
      ]
     },
     "execution_count": 12,
     "metadata": {},
     "output_type": "execute_result"
    }
   ],
   "source": [
    "mse"
   ]
  },
  {
   "cell_type": "code",
   "execution_count": 13,
   "id": "bf5e5abc-bca6-4dd5-9808-955d35146d8e",
   "metadata": {},
   "outputs": [],
   "source": [
    "def plot_knn(X,Y,m,k=[]):\n",
    "    x_train, x_test, y_train, y_test = train_test_split(X,Y, test_size=0.2, random_state=10)\n",
    "    scores_r2 = []\n",
    "    scores_mse = []\n",
    "    scores_mae = []\n",
    "    \n",
    "    if m == 'knn':\n",
    "        for i in k:\n",
    "            model = KNeighborsRegressor(n_neighbors=i)\n",
    "            model.fit(x_train, y_train)\n",
    "            predictions = model.predict(x_test)\n",
    "            r2 = r2_score(y_test, predictions)\n",
    "            mse = mean_squared_error(y_test, predictions)\n",
    "            mae = mean_absolute_error(y_test, predictions)\n",
    "            scores_r2.append(r2)\n",
    "            scores_mse.append(mse)\n",
    "            scores_mae.append(mae)\n",
    "            \n",
    "    elif m == 'lm':\n",
    "            lm = LinearRegression().fit(x_train,y_train)\n",
    "            predictions = lm.predict(x_test)\n",
    "            r2 = r2_score(y_test, predictions)\n",
    "            mse = mean_squared_error(y_test, predictions)\n",
    "            mae = mean_absolute_error(y_test, predictions)\n",
    "            scores_r2.append(r2)\n",
    "            scores_mse.append(mse)\n",
    "            scores_mae.append(mae)\n",
    "            \n",
    "    else:\n",
    "        pass\n",
    "        \n",
    "    scores = [scores_r2, scores_mae, scores_mse]\n",
    "    accuracies = ['R square', 'MAE', 'MSE']\n",
    "    \n",
    "    \n",
    "    if m == 'knn':\n",
    "        for i in range(3):\n",
    "            plt.figure(figsize=(10,6))\n",
    "            plt.plot(k,scores[i],color = 'blue',linestyle='dashed', \n",
    "                     marker='o',markerfacecolor='red', markersize=10)\n",
    "    #         plt.title('accuracy score -', accuracies[i], 'vs. K Value')\n",
    "            plt.xlabel('K')\n",
    "            plt.ylabel(accuracies[i])\n",
    "            plt.show()\n",
    "    else:\n",
    "        pass\n",
    "    \n",
    "    return    scores_r2, scores_mse, scores_mae\n",
    "        \n",
    "    "
   ]
  },
  {
   "cell_type": "code",
   "execution_count": null,
   "id": "6de4dfd7-6c0c-4638-b698-d5d6b72e67f3",
   "metadata": {},
   "outputs": [],
   "source": []
  },
  {
   "cell_type": "code",
   "execution_count": null,
   "id": "1df8d0fc-37fe-495b-a099-7c5a2b79db4b",
   "metadata": {},
   "outputs": [],
   "source": []
  },
  {
   "cell_type": "code",
   "execution_count": null,
   "id": "04b16522-747e-4faa-a7a2-c18df5c612fb",
   "metadata": {},
   "outputs": [],
   "source": []
  },
  {
   "cell_type": "code",
   "execution_count": null,
   "id": "7d62ee25-b8ed-4337-a1bc-0e488b494620",
   "metadata": {},
   "outputs": [],
   "source": []
  },
  {
   "cell_type": "code",
   "execution_count": null,
   "id": "581e0aae-8fad-4dd4-ba44-0eacc9c06721",
   "metadata": {},
   "outputs": [],
   "source": []
  },
  {
   "cell_type": "code",
   "execution_count": null,
   "id": "d0fedbaa-19f9-4b90-9cd7-e9e2b4f31804",
   "metadata": {},
   "outputs": [],
   "source": []
  },
  {
   "cell_type": "code",
   "execution_count": null,
   "id": "eb7c8ae2-b3f5-47fc-81ba-218f1f57b915",
   "metadata": {},
   "outputs": [],
   "source": []
  },
  {
   "cell_type": "code",
   "execution_count": 14,
   "id": "73c43cc3-43b7-485a-9404-e5bc85492c62",
   "metadata": {},
   "outputs": [],
   "source": [
    "df = df.dropna()"
   ]
  },
  {
   "cell_type": "code",
   "execution_count": 15,
   "id": "5f87a2f1-24b5-43ef-bfef-de60d4c852b9",
   "metadata": {},
   "outputs": [],
   "source": [
    "data_sampled = df.sample(100)\n"
   ]
  },
  {
   "cell_type": "code",
   "execution_count": 16,
   "id": "931a50a1-9d6f-425b-b668-86af0a40c3d6",
   "metadata": {},
   "outputs": [],
   "source": [
    "data_sampled = data_sampled[['HV1', 'IC1', 'AVGGIFT']]"
   ]
  },
  {
   "cell_type": "code",
   "execution_count": 17,
   "id": "f11f5a09-5312-4012-a87b-5891c98ed3d7",
   "metadata": {},
   "outputs": [
    {
     "data": {
      "text/plain": [
       "(100, 3)"
      ]
     },
     "execution_count": 17,
     "metadata": {},
     "output_type": "execute_result"
    }
   ],
   "source": [
    "data_sampled.shape"
   ]
  },
  {
   "cell_type": "code",
   "execution_count": 18,
   "id": "2d5a95fe-f842-4bf8-92c6-fbee2bdf5270",
   "metadata": {},
   "outputs": [
    {
     "data": {
      "text/html": [
       "<div>\n",
       "<style scoped>\n",
       "    .dataframe tbody tr th:only-of-type {\n",
       "        vertical-align: middle;\n",
       "    }\n",
       "\n",
       "    .dataframe tbody tr th {\n",
       "        vertical-align: top;\n",
       "    }\n",
       "\n",
       "    .dataframe thead th {\n",
       "        text-align: right;\n",
       "    }\n",
       "</style>\n",
       "<table border=\"1\" class=\"dataframe\">\n",
       "  <thead>\n",
       "    <tr style=\"text-align: right;\">\n",
       "      <th></th>\n",
       "      <th>HV1</th>\n",
       "      <th>IC1</th>\n",
       "      <th>AVGGIFT</th>\n",
       "    </tr>\n",
       "  </thead>\n",
       "  <tbody>\n",
       "    <tr>\n",
       "      <th>86799</th>\n",
       "      <td>664</td>\n",
       "      <td>334</td>\n",
       "      <td>12.500000</td>\n",
       "    </tr>\n",
       "    <tr>\n",
       "      <th>936</th>\n",
       "      <td>420</td>\n",
       "      <td>171</td>\n",
       "      <td>21.666667</td>\n",
       "    </tr>\n",
       "    <tr>\n",
       "      <th>46965</th>\n",
       "      <td>742</td>\n",
       "      <td>345</td>\n",
       "      <td>8.700000</td>\n",
       "    </tr>\n",
       "    <tr>\n",
       "      <th>16016</th>\n",
       "      <td>275</td>\n",
       "      <td>230</td>\n",
       "      <td>12.000000</td>\n",
       "    </tr>\n",
       "    <tr>\n",
       "      <th>33345</th>\n",
       "      <td>824</td>\n",
       "      <td>356</td>\n",
       "      <td>7.333333</td>\n",
       "    </tr>\n",
       "    <tr>\n",
       "      <th>...</th>\n",
       "      <td>...</td>\n",
       "      <td>...</td>\n",
       "      <td>...</td>\n",
       "    </tr>\n",
       "    <tr>\n",
       "      <th>46939</th>\n",
       "      <td>927</td>\n",
       "      <td>286</td>\n",
       "      <td>15.000000</td>\n",
       "    </tr>\n",
       "    <tr>\n",
       "      <th>77352</th>\n",
       "      <td>901</td>\n",
       "      <td>327</td>\n",
       "      <td>6.176471</td>\n",
       "    </tr>\n",
       "    <tr>\n",
       "      <th>63376</th>\n",
       "      <td>349</td>\n",
       "      <td>176</td>\n",
       "      <td>6.166667</td>\n",
       "    </tr>\n",
       "    <tr>\n",
       "      <th>74914</th>\n",
       "      <td>425</td>\n",
       "      <td>226</td>\n",
       "      <td>20.000000</td>\n",
       "    </tr>\n",
       "    <tr>\n",
       "      <th>80071</th>\n",
       "      <td>398</td>\n",
       "      <td>249</td>\n",
       "      <td>10.076923</td>\n",
       "    </tr>\n",
       "  </tbody>\n",
       "</table>\n",
       "<p>100 rows × 3 columns</p>\n",
       "</div>"
      ],
      "text/plain": [
       "       HV1  IC1    AVGGIFT\n",
       "86799  664  334  12.500000\n",
       "936    420  171  21.666667\n",
       "46965  742  345   8.700000\n",
       "16016  275  230  12.000000\n",
       "33345  824  356   7.333333\n",
       "...    ...  ...        ...\n",
       "46939  927  286  15.000000\n",
       "77352  901  327   6.176471\n",
       "63376  349  176   6.166667\n",
       "74914  425  226  20.000000\n",
       "80071  398  249  10.076923\n",
       "\n",
       "[100 rows x 3 columns]"
      ]
     },
     "execution_count": 18,
     "metadata": {},
     "output_type": "execute_result"
    }
   ],
   "source": [
    "data_sampled_x = data_sampled.select_dtypes(np.number)\n",
    "data_sampled_x"
   ]
  },
  {
   "cell_type": "code",
   "execution_count": 19,
   "id": "43dd6be9-daea-48fd-96d6-77587af8885b",
   "metadata": {},
   "outputs": [],
   "source": [
    "data_sampled_y = data_sampled['AVGGIFT']\n",
    "data_sampled_x.drop(['AVGGIFT'], axis =1, inplace = True)"
   ]
  },
  {
   "cell_type": "code",
   "execution_count": 20,
   "id": "977681d2-c0f4-4ca4-938c-2ab600a698b2",
   "metadata": {},
   "outputs": [
    {
     "data": {
      "text/html": [
       "<div>\n",
       "<style scoped>\n",
       "    .dataframe tbody tr th:only-of-type {\n",
       "        vertical-align: middle;\n",
       "    }\n",
       "\n",
       "    .dataframe tbody tr th {\n",
       "        vertical-align: top;\n",
       "    }\n",
       "\n",
       "    .dataframe thead th {\n",
       "        text-align: right;\n",
       "    }\n",
       "</style>\n",
       "<table border=\"1\" class=\"dataframe\">\n",
       "  <thead>\n",
       "    <tr style=\"text-align: right;\">\n",
       "      <th></th>\n",
       "      <th>HV1</th>\n",
       "      <th>IC1</th>\n",
       "    </tr>\n",
       "  </thead>\n",
       "  <tbody>\n",
       "    <tr>\n",
       "      <th>86799</th>\n",
       "      <td>664</td>\n",
       "      <td>334</td>\n",
       "    </tr>\n",
       "    <tr>\n",
       "      <th>936</th>\n",
       "      <td>420</td>\n",
       "      <td>171</td>\n",
       "    </tr>\n",
       "    <tr>\n",
       "      <th>46965</th>\n",
       "      <td>742</td>\n",
       "      <td>345</td>\n",
       "    </tr>\n",
       "    <tr>\n",
       "      <th>16016</th>\n",
       "      <td>275</td>\n",
       "      <td>230</td>\n",
       "    </tr>\n",
       "    <tr>\n",
       "      <th>33345</th>\n",
       "      <td>824</td>\n",
       "      <td>356</td>\n",
       "    </tr>\n",
       "    <tr>\n",
       "      <th>...</th>\n",
       "      <td>...</td>\n",
       "      <td>...</td>\n",
       "    </tr>\n",
       "    <tr>\n",
       "      <th>46939</th>\n",
       "      <td>927</td>\n",
       "      <td>286</td>\n",
       "    </tr>\n",
       "    <tr>\n",
       "      <th>77352</th>\n",
       "      <td>901</td>\n",
       "      <td>327</td>\n",
       "    </tr>\n",
       "    <tr>\n",
       "      <th>63376</th>\n",
       "      <td>349</td>\n",
       "      <td>176</td>\n",
       "    </tr>\n",
       "    <tr>\n",
       "      <th>74914</th>\n",
       "      <td>425</td>\n",
       "      <td>226</td>\n",
       "    </tr>\n",
       "    <tr>\n",
       "      <th>80071</th>\n",
       "      <td>398</td>\n",
       "      <td>249</td>\n",
       "    </tr>\n",
       "  </tbody>\n",
       "</table>\n",
       "<p>100 rows × 2 columns</p>\n",
       "</div>"
      ],
      "text/plain": [
       "       HV1  IC1\n",
       "86799  664  334\n",
       "936    420  171\n",
       "46965  742  345\n",
       "16016  275  230\n",
       "33345  824  356\n",
       "...    ...  ...\n",
       "46939  927  286\n",
       "77352  901  327\n",
       "63376  349  176\n",
       "74914  425  226\n",
       "80071  398  249\n",
       "\n",
       "[100 rows x 2 columns]"
      ]
     },
     "execution_count": 20,
     "metadata": {},
     "output_type": "execute_result"
    }
   ],
   "source": [
    "data_sampled_x"
   ]
  },
  {
   "cell_type": "code",
   "execution_count": 23,
   "id": "4bb52a52-597c-4af6-bee4-e690e4da922c",
   "metadata": {},
   "outputs": [
    {
     "data": {
      "text/plain": [
       "(100, 2)"
      ]
     },
     "execution_count": 23,
     "metadata": {},
     "output_type": "execute_result"
    }
   ],
   "source": [
    "data_sampled_x.shape"
   ]
  },
  {
   "cell_type": "code",
   "execution_count": 24,
   "id": "684fd8f4-a1b0-4e80-922c-8de843ab6951",
   "metadata": {},
   "outputs": [
    {
     "data": {
      "text/plain": [
       "(100,)"
      ]
     },
     "execution_count": 24,
     "metadata": {},
     "output_type": "execute_result"
    }
   ],
   "source": [
    "data_sampled_y.shape"
   ]
  },
  {
   "cell_type": "code",
   "execution_count": null,
   "id": "fc3066ae-c7e9-4ced-92b9-d6889dd6d176",
   "metadata": {},
   "outputs": [],
   "source": []
  },
  {
   "cell_type": "code",
   "execution_count": null,
   "id": "ad77a96d-7949-4e37-a569-9b81fff1b06c",
   "metadata": {},
   "outputs": [],
   "source": []
  },
  {
   "cell_type": "code",
   "execution_count": 25,
   "id": "1aee2716-8b98-4976-b47a-9bcd7e292496",
   "metadata": {},
   "outputs": [
    {
     "data": {
      "image/png": "[encoded data removed]",
      "text/plain": [
       "<Figure size 720x432 with 1 Axes>"
      ]
     },
     "metadata": {
      "needs_background": "light"
     },
     "output_type": "display_data"
    },
    {
     "data": {
      "image/png": "[encoded data removed]",
      "text/plain": [
       "<Figure size 720x432 with 1 Axes>"
      ]
     },
     "metadata": {
      "needs_background": "light"
     },
     "output_type": "display_data"
    },
    {
     "data": {
      "image/png": "[encoded data removed]",
      "text/plain": [
       "<Figure size 720x432 with 1 Axes>"
      ]
     },
     "metadata": {
      "needs_background": "light"
     },
     "output_type": "display_data"
    },
    {
     "data": {
      "text/plain": [
       "([-2.2992453822322947,\n",
       "  -2.0469836772531935,\n",
       "  -1.5558316455029084,\n",
       "  -1.441173960863054],\n",
       " [97.61265323037748, 90.14914825313687, 75.61774867406174, 72.22544543065297],\n",
       " [7.49368679275, 7.560805140100001, 6.576058008366667, 6.915714534349999])"
      ]
     },
     "execution_count": 25,
     "metadata": {},
     "output_type": "execute_result"
    }
   ],
   "source": [
    "plot_knn(data_sampled_x, data_sampled_y, m = 'knn', k=[1,2,3,4])"
   ]
  },
  {
   "cell_type": "code",
   "execution_count": null,
   "id": "468ee8c4-99b6-436e-8d29-ede164f68aba",
   "metadata": {},
   "outputs": [],
   "source": []
  },
  {
   "cell_type": "code",
   "execution_count": null,
   "id": "fe047379-758e-4897-8145-bff6088c04f0",
   "metadata": {},
   "outputs": [],
   "source": [
    "scores_r2"
   ]
  },
  {
   "cell_type": "code",
   "execution_count": null,
   "id": "a7849f55-0b47-42db-87d3-94aa01a0b4bb",
   "metadata": {},
   "outputs": [],
   "source": []
  }
 ],
 "metadata": {
  "kernelspec": {
   "display_name": "Python 3 (ipykernel)",
   "language": "python",
   "name": "python3"
  },
  "language_info": {
   "codemirror_mode": {
    "name": "ipython",
    "version": 3
   },
   "file_extension": ".py",
   "mimetype": "text/x-python",
   "name": "python",
   "nbconvert_exporter": "python",
   "pygments_lexer": "ipython3",
   "version": "3.10.1"
  }
 },
 "nbformat": 4,
 "nbformat_minor": 5
}
